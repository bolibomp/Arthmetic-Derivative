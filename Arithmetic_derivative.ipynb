{
  "nbformat": 4,
  "nbformat_minor": 0,
  "metadata": {
    "colab": {
      "name": "Arithmetic_derivative.ipynb",
      "provenance": []
    },
    "kernelspec": {
      "name": "python3",
      "display_name": "Python 3"
    },
    "language_info": {
      "name": "python"
    }
  },
  "cells": [
    {
      "cell_type": "markdown",
      "source": [
        "Small script that caculates the arithmetic derivative of either an integer or fraction.\n",
        "\n",
        "https://en.wikipedia.org/wiki/Arithmetic_derivative"
      ],
      "metadata": {
        "id": "nh6nR_sEogx5"
      }
    },
    {
      "cell_type": "code",
      "source": [
        "import numpy as np\n",
        "import matplotlib.pyplot as plt\n",
        "import sympy\n",
        "from fractions import Fraction\n"
      ],
      "metadata": {
        "id": "rfcaFWP1myTm"
      },
      "execution_count": 15,
      "outputs": []
    },
    {
      "cell_type": "code",
      "execution_count": 16,
      "metadata": {
        "colab": {
          "base_uri": "https://localhost:8080/"
        },
        "id": "fAvpQB8CmDNl",
        "outputId": "8f6a07c5-0fff-4641-91de-ec488a15c89d"
      },
      "outputs": [
        {
          "output_type": "stream",
          "name": "stdout",
          "text": [
            "-0.5\n",
            "16\n"
          ]
        }
      ],
      "source": [
        "def arti_deriv(n):\n",
        "    if n==0 or n==1:\n",
        "        return int(0)\n",
        "    elif sympy.isprime(n):\n",
        "        return int(1)\n",
        "    elif n < 0:\n",
        "        return -arti_deriv(-1*n)\n",
        "    elif sympy.primefactors(n):\n",
        "        return int(arti_deriv(sympy.primefactors(n)[0])*(n)/(sympy.primefactors(n)[0]) + sympy.primefactors(n)[0]*arti_deriv((n)/(sympy.primefactors(n)[0])))\n",
        "    elif not isinstance(n, int):\n",
        "        quotient = Fraction(n)\n",
        "        num = int(quotient.numerator)\n",
        "        den = int(quotient.denominator)\n",
        "        return (arti_deriv(num)*den-num*arti_deriv(den))/(den**2)\n",
        "    else:\n",
        "        raise TypeError('Only intergers and rational numbers can be used as input')\n",
        "\n",
        "print(arti_deriv(3/4))\n",
        "print(arti_deriv(12))   "
      ]
    }
  ]
}